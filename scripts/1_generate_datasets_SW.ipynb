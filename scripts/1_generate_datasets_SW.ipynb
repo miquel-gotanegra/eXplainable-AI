{
 "cells": [
  {
   "cell_type": "markdown",
   "metadata": {},
   "source": [
    "**Script for generating variations of the dataset - Effect of sliding window and overlapping factor**"
   ]
  },
  {
   "cell_type": "code",
   "execution_count": 5,
   "metadata": {},
   "outputs": [],
   "source": [
    "import sys  \n",
    "sys.path.insert(0, '../src/')\n",
    "import matplotlib.pyplot as plt\n",
    "\n",
    "import dataset as dt\n",
    "import numpy as np"
   ]
  },
  {
   "cell_type": "code",
   "execution_count": 6,
   "metadata": {},
   "outputs": [],
   "source": [
    "def  generate_dataset():\n",
    "    dataset = dt.Dataset('ours', WINDOW_SIZE, OVERLAP_FACTOR)\n",
    "    dataset.read_raw_data()\n",
    "    dataset.smart_split_sets()\n",
    "    # dataset.augment_data(MIN_SAMPLES, OBFUSCATION_FACTOR, set=\"Train\")\n",
    "    dataset.save_data()"
   ]
  },
  {
   "cell_type": "markdown",
   "metadata": {},
   "source": [
    "7. 256 0.50"
   ]
  },
  {
   "cell_type": "code",
   "execution_count": 7,
   "metadata": {},
   "outputs": [
    {
     "name": "stdout",
     "output_type": "stream",
     "text": [
      "Reading raw data files...\n"
     ]
    },
    {
     "name": "stderr",
     "output_type": "stream",
     "text": [
      "  0%|          | 0/9709 [00:00<?, ?it/s]"
     ]
    },
    {
     "name": "stderr",
     "output_type": "stream",
     "text": [
      "100%|██████████| 9709/9709 [03:00<00:00, 53.78it/s]  \n"
     ]
    },
    {
     "name": "stdout",
     "output_type": "stream",
     "text": [
      "Succesfully data preprocessing.\n",
      "######### Bike #########\n",
      "     - Total samples: 3109\n",
      "     - Train samples: 2176\n",
      "     - Test samples: 932\n",
      "     - Train dist: {'2ab87c9ee8de9eb7': 987, 'd6d193d3f7477465': 116, 'ade9cca025b30c45': 1752, '84618f237d30bf44': 74, '8d89eabbfbd6a2ea': 35, '18caffff8f9e983b': 80, '4ec91e68023af0de': 31, '224f5d897e62afbb': 34}\n",
      "     - Test dist: {}\n",
      "     - Mid train samp: 3109\n",
      "     - Mid test samp: 0\n",
      "     - Still needed test samples: 932\n",
      "######### Bus #########\n",
      "     - Total samples: 27613\n",
      "     - Train samples: 19329\n",
      "     - Test samples: 8283\n",
      "     - Train dist: {'444f1148381db72e': 2815, '198242fb4b0b1987': 1578, '2b09ad0e2fc19550': 1148, '2413fb9f8a2011ae': 253, 'e2f173433854980a': 871, 'ef210a45857f6cba': 63, 'b34815c4c2784c19': 20, '7a988e5141dfdbbd': 63, 'f95c6ddbef2a95ab': 14852}\n",
      "     - Test dist: {'null': 4467, '2ab87c9ee8de9eb7': 283, 'cd42080a155d5678': 120, 'd57a49b05a861470': 92, '8700b86d18cbb720': 220, 'addb1fb08a7d4bc6': 734, 'd3618fd598f692f7': 34}\n",
      "     - Mid train samp: 21663\n",
      "     - Mid test samp: 5950\n",
      "     - Still needed test samples: 2333\n",
      "######### Car #########\n",
      "     - Total samples: 26528\n",
      "     - Train samples: 18569\n",
      "     - Test samples: 7958\n",
      "     - Train dist: {'444f1148381db72e': 2288, 'null': 295, 'daff6cc950eb44d1': 227, '2b09ad0e2fc19550': 1450, 'd57a49b05a861470': 1, '8700b86d18cbb720': 7380, '0e2f8a71a5e90c45': 12842, 'addb1fb08a7d4bc6': 90, '7c8912006fddc5fb': 13}\n",
      "     - Test dist: {'198242fb4b0b1987': 168, '73937b82ca09d1e9': 1774}\n",
      "     - Mid train samp: 24586\n",
      "     - Mid test samp: 1942\n",
      "     - Still needed test samples: 6016\n",
      "######### Metro #########\n",
      "     - Total samples: 26106\n",
      "     - Train samples: 18274\n",
      "     - Test samples: 7831\n",
      "     - Train dist: {'444f1148381db72e': 10998, '198242fb4b0b1987': 1018, '2b09ad0e2fc19550': 1598, '84618f237d30bf44': 129, 'cd42080a155d5678': 803, 'a8542da6c86f6f59': 231, 'd57a49b05a861470': 1463, 'f95c6ddbef2a95ab': 8448, 'addb1fb08a7d4bc6': 305, '7c8912006fddc5fb': 369}\n",
      "     - Test dist: {'daff6cc950eb44d1': 45, 'null': 139, 'e2f173433854980a': 560}\n",
      "     - Mid train samp: 25362\n",
      "     - Mid test samp: 744\n",
      "     - Still needed test samples: 7087\n",
      "######### Moto #########\n",
      "     - Total samples: 3818\n",
      "     - Train samples: 2672\n",
      "     - Test samples: 1145\n",
      "     - Train dist: {'1c8d2cddba228f16': 3255, '9e2bcd35a2dcd34c': 250, '6cf0efedcc3dfb40': 149, '7c8912006fddc5fb': 164}\n",
      "     - Test dist: {}\n",
      "     - Mid train samp: 3818\n",
      "     - Mid test samp: 0\n",
      "     - Still needed test samples: 1145\n",
      "######### Run #########\n",
      "     - Total samples: 4762\n",
      "     - Train samples: 3333\n",
      "     - Test samples: 1428\n",
      "     - Train dist: {'1d3f44b01e7bc718': 684, '444f1148381db72e': 847, 'd57a49b05a861470': 1549, 'addb1fb08a7d4bc6': 844}\n",
      "     - Test dist: {'0e2f8a71a5e90c45': 22, '8700b86d18cbb720': 7, 'f95c6ddbef2a95ab': 809}\n",
      "     - Mid train samp: 3924\n",
      "     - Mid test samp: 838\n",
      "     - Still needed test samples: 590\n",
      "######### Stationary #########\n",
      "     - Total samples: 7958\n",
      "     - Train samples: 5570\n",
      "     - Test samples: 2387\n",
      "     - Train dist: {'444f1148381db72e': 1725, 'null': 6, '198242fb4b0b1987': 174, '4959c19c9c3055fa': 29, 'e2f173433854980a': 198, 'cd42080a155d5678': 11, '1d3f44b01e7bc718': 222, 'd57a49b05a861470': 236, '7a988e5141dfdbbd': 926, 'f95c6ddbef2a95ab': 515, '0e2f8a71a5e90c45': 1497, 'addb1fb08a7d4bc6': 46}\n",
      "     - Test dist: {'86624a986dae41cf': 29, '116dc8b4aae9a837': 466, '8700b86d18cbb720': 665, '2ab51cfe3c28d16f': 1213}\n",
      "     - Mid train samp: 5585\n",
      "     - Mid test samp: 2373\n",
      "     - Still needed test samples: 14\n",
      "######### Train #########\n",
      "     - Total samples: 5363\n",
      "     - Train samples: 3754\n",
      "     - Test samples: 1608\n",
      "     - Train dist: {'86624a986dae41cf': 11, '444f1148381db72e': 1080, 'null': 955, 'daff6cc950eb44d1': 297, '84618f237d30bf44': 98, 'b4659af481d1825b': 424, 'e2f173433854980a': 50, 'e9d0b8e51856073d': 626, '74c0a3279f0bbf37': 8, 'f95c6ddbef2a95ab': 269, '0e2f8a71a5e90c45': 51}\n",
      "     - Test dist: {'8700b86d18cbb720': 1494}\n",
      "     - Mid train samp: 3869\n",
      "     - Mid test samp: 1494\n",
      "     - Still needed test samples: 114\n",
      "######### Tram #########\n",
      "     - Total samples: 17046\n",
      "     - Train samples: 11932\n",
      "     - Test samples: 5113\n",
      "     - Train dist: {'cd42080a155d5678': 6331, 'null': 78, '198242fb4b0b1987': 98, 'f95c6ddbef2a95ab': 10539}\n",
      "     - Test dist: {}\n",
      "     - Mid train samp: 17046\n",
      "     - Mid test samp: 0\n",
      "     - Still needed test samples: 5113\n",
      "######### Walk #########\n",
      "     - Total samples: 18000\n",
      "     - Train samples: 12600\n",
      "     - Test samples: 5400\n",
      "     - Train dist: {'86624a986dae41cf': 194, '444f1148381db72e': 3998, '633b42eee92bf87e': 219, '198242fb4b0b1987': 680, '2ab87c9ee8de9eb7': 541, '84618f237d30bf44': 314, 'e2f173433854980a': 846, '1d3f44b01e7bc718': 1154, '73cdfd84ac9fa9db': 51, 'd57a49b05a861470': 2255, '7c8912006fddc5fb': 274, 'e7f462b8703f5449': 19, '0e2f8a71a5e90c45': 2559, 'd3618fd598f692f7': 20}\n",
      "     - Test dist: {'null': 1029, 'a4496eaa70c5c513': 42, '116dc8b4aae9a837': 48, 'b4659af481d1825b': 793, 'ef210a45857f6cba': 412, '8700b86d18cbb720': 1247, '73937b82ca09d1e9': 300, 'f95c6ddbef2a95ab': 913, 'addb1fb08a7d4bc6': 92}\n",
      "     - Mid train samp: 13124\n",
      "     - Mid test samp: 4876\n",
      "     - Still needed test samples: 524\n",
      "######### e-Bike #########\n",
      "     - Total samples: 558\n",
      "     - Train samples: 390\n",
      "     - Test samples: 167\n",
      "     - Train dist: {'84618f237d30bf44': 312, 'b4659af481d1825b': 15, '7357d106d9d0bf09': 170, '4ec91e68023af0de': 29, '224f5d897e62afbb': 32}\n",
      "     - Test dist: {}\n",
      "     - Mid train samp: 558\n",
      "     - Mid test samp: 0\n",
      "     - Still needed test samples: 167\n",
      "######### e-Scooter #########\n",
      "     - Total samples: 4641\n",
      "     - Train samples: 3248\n",
      "     - Test samples: 1392\n",
      "     - Train dist: {'d9fab7c54f1f3ff6': 32, '633b42eee92bf87e': 257, 'bda9f464f3a64685': 607, 'e610046b4f2b5eb0': 470, 'fd9db31d31e1e3e0': 1063, '83cac3b063f1e92f': 8, '8ceffdf9f436adcf': 1375}\n",
      "     - Test dist: {'7357d106d9d0bf09': 145, '6093558ebcb8e304': 684}\n",
      "     - Mid train samp: 3812\n",
      "     - Mid test samp: 829\n",
      "     - Still needed test samples: 563\n",
      "############# FINAL #############\n",
      "TRAIN: 101858\n",
      "TEST: 43644\n",
      "Train data shape: (101858,)\n",
      "Validation data shape: (21822,)\n",
      "Test data shape: (21822,)\n",
      "../data/Window256Overlap0.5/labels.txt - saved succesfully\n",
      "../data/Window256Overlap0.5/users.txt - saved succesfully\n",
      "../data/Window256Overlap0.5/train.txt - saved succesfully\n",
      "../data/Window256Overlap0.5/val.txt - saved succesfully\n",
      "../data/Window256Overlap0.5/test.txt - saved succesfully\n",
      "../data/Window256Overlap0.5/sensors(145502, 256, 9).txt - saved succesfully\n"
     ]
    }
   ],
   "source": [
    "WINDOW_SIZE =  256\n",
    "OVERLAP_FACTOR = 0.5\n",
    "MIN_SAMPLES = 0\n",
    "OBFUSCATION_FACTOR = 0.0\n",
    "\n",
    "generate_dataset()"
   ]
  }
 ],
 "metadata": {
  "kernelspec": {
   "display_name": "Python 3",
   "language": "python",
   "name": "python3"
  },
  "language_info": {
   "codemirror_mode": {
    "name": "ipython",
    "version": 3
   },
   "file_extension": ".py",
   "mimetype": "text/x-python",
   "name": "python",
   "nbconvert_exporter": "python",
   "pygments_lexer": "ipython3",
   "version": "3.11.5"
  }
 },
 "nbformat": 4,
 "nbformat_minor": 2
}
